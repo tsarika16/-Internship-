{
 "cells": [
  {
   "cell_type": "code",
   "execution_count": 283,
   "id": "2403d71c",
   "metadata": {},
   "outputs": [],
   "source": [
    "import selenium\n",
    "import pandas as pd\n",
    "from selenium import webdriver\n",
    "import warnings\n",
    "warnings.filterwarnings('ignore')\n",
    "from selenium.common.exceptions import StaleElementReferenceException, NoSuchElementException\n",
    "from selenium.webdriver.common.by import By\n",
    "import time"
   ]
  },
  {
   "cell_type": "markdown",
   "id": "913da423",
   "metadata": {},
   "source": [
    "Q1: Write a python program to scrape data for “Data Analyst” Job position in “Bangalore” location. You\n",
    "have to scrape the job-title, job-location, company_name, experience_required. You have to scrape first 10\n",
    "jobs data.\n",
    "This task will be done in following steps:\n",
    "1. First get the webpage https://www.naukri.com/\n",
    "2. Enter “Data Analyst” in “Skill, Designations, Companies” field and enter “Bangalore” in “enter the\n",
    "location” field.\n",
    "3. Then click the search button.\n",
    "4. Then scrape the data for the first 10 jobs results you get.\n",
    "5. Finally create a dataframe of the scraped data."
   ]
  },
  {
   "cell_type": "code",
   "execution_count": 3,
   "id": "b09b3428",
   "metadata": {},
   "outputs": [],
   "source": [
    "driver=webdriver.Chrome(r\"C:\\Program Files\\chromedriver.exe\")\n",
    "driver.get('https://www.naukri.com/')"
   ]
  },
  {
   "cell_type": "code",
   "execution_count": 4,
   "id": "aac884ba",
   "metadata": {},
   "outputs": [],
   "source": [
    "designation=driver.find_element(By.CLASS_NAME,\"suggestor-input\")\n",
    "designation.send_keys('Data Analyst')"
   ]
  },
  {
   "cell_type": "code",
   "execution_count": 5,
   "id": "615fef7d",
   "metadata": {},
   "outputs": [],
   "source": [
    "location=driver.find_element(By.XPATH,\"/html/body/div[1]/div[6]/div/div/div[5]/div/div/div/input\")\n",
    "location.send_keys('Bangalore')"
   ]
  },
  {
   "cell_type": "code",
   "execution_count": 6,
   "id": "1d10bfa8",
   "metadata": {},
   "outputs": [],
   "source": [
    "search=driver.find_element(By.CLASS_NAME,\"qsbSubmit\")\n",
    "search.click()"
   ]
  },
  {
   "cell_type": "code",
   "execution_count": 7,
   "id": "6ff41c91",
   "metadata": {},
   "outputs": [],
   "source": [
    "job_title=[]\n",
    "job_location=[]\n",
    "company_name=[]\n",
    "experience_required=[]"
   ]
  },
  {
   "cell_type": "code",
   "execution_count": 8,
   "id": "f2f90c8e",
   "metadata": {},
   "outputs": [],
   "source": [
    "title_tags=driver.find_elements(By.XPATH,'//a[@class=\"title fw500 ellipsis\"]')\n",
    "for i in title_tags[0:10]:\n",
    "    title=i.text\n",
    "    job_title.append(title)\n",
    "    \n",
    "location_tags=driver.find_elements(By.XPATH,'//li[@class=\"fleft grey-text br2 placeHolderLi location\"]')\n",
    "for i in location_tags[0:10]:\n",
    "    location=i.text\n",
    "    job_location.append(location)\n",
    "    \n",
    "company_tags=driver.find_elements(By.XPATH,'//a[@class=\"subTitle ellipsis fleft\"]')\n",
    "for i in company_tags[0:10]:\n",
    "    company=i.text\n",
    "    company_name.append(company)\n",
    "    \n",
    "experience_tags=driver.find_elements(By.XPATH,'//li[@class=\"fleft grey-text br2 placeHolderLi experience\"]//span')\n",
    "for i in experience_tags[0:10]:\n",
    "    exp=i.text\n",
    "    experience_required.append(exp)"
   ]
  },
  {
   "cell_type": "code",
   "execution_count": 9,
   "id": "28806503",
   "metadata": {},
   "outputs": [
    {
     "name": "stdout",
     "output_type": "stream",
     "text": [
      "10 10 10 10\n"
     ]
    }
   ],
   "source": [
    "print(len(job_title),len(job_location),len(company_name),len(experience_required))"
   ]
  },
  {
   "cell_type": "code",
   "execution_count": 10,
   "id": "99094aec",
   "metadata": {},
   "outputs": [
    {
     "data": {
      "text/html": [
       "<div>\n",
       "<style scoped>\n",
       "    .dataframe tbody tr th:only-of-type {\n",
       "        vertical-align: middle;\n",
       "    }\n",
       "\n",
       "    .dataframe tbody tr th {\n",
       "        vertical-align: top;\n",
       "    }\n",
       "\n",
       "    .dataframe thead th {\n",
       "        text-align: right;\n",
       "    }\n",
       "</style>\n",
       "<table border=\"1\" class=\"dataframe\">\n",
       "  <thead>\n",
       "    <tr style=\"text-align: right;\">\n",
       "      <th></th>\n",
       "      <th>Job_title</th>\n",
       "      <th>Job_location</th>\n",
       "      <th>Company_name</th>\n",
       "      <th>Exp_required</th>\n",
       "    </tr>\n",
       "  </thead>\n",
       "  <tbody>\n",
       "    <tr>\n",
       "      <th>0</th>\n",
       "      <td>Senior Data Analyst</td>\n",
       "      <td>Bangalore/Bengaluru, Chennai</td>\n",
       "      <td>Latentview</td>\n",
       "      <td>3-6 Yrs</td>\n",
       "    </tr>\n",
       "    <tr>\n",
       "      <th>1</th>\n",
       "      <td>Data Analyst</td>\n",
       "      <td>Bangalore/Bengaluru, Mangaluru/Mangalore, Pune...</td>\n",
       "      <td>Coresight Research, Inc.</td>\n",
       "      <td>4-8 Yrs</td>\n",
       "    </tr>\n",
       "    <tr>\n",
       "      <th>2</th>\n",
       "      <td>Data Analyst</td>\n",
       "      <td>Bangalore/Bengaluru</td>\n",
       "      <td>Varite</td>\n",
       "      <td>2-5 Yrs</td>\n",
       "    </tr>\n",
       "    <tr>\n",
       "      <th>3</th>\n",
       "      <td>Data Analyst - CRM Platform</td>\n",
       "      <td>Bangalore/Bengaluru, Mumbai, Hyderabad/Secunde...</td>\n",
       "      <td>Artech infosystem</td>\n",
       "      <td>1-6 Yrs</td>\n",
       "    </tr>\n",
       "    <tr>\n",
       "      <th>4</th>\n",
       "      <td>Data Analyst</td>\n",
       "      <td>Bangalore/Bengaluru</td>\n",
       "      <td>Jar</td>\n",
       "      <td>0-4 Yrs</td>\n",
       "    </tr>\n",
       "    <tr>\n",
       "      <th>5</th>\n",
       "      <td>Hiring For Data Analyst (DA)/ Team Lead (TL) -...</td>\n",
       "      <td>Bangalore/Bengaluru, Kolkata, Hyderabad/Secund...</td>\n",
       "      <td>Cognizant</td>\n",
       "      <td>3-8 Yrs</td>\n",
       "    </tr>\n",
       "    <tr>\n",
       "      <th>6</th>\n",
       "      <td>Call For Clinical Data Analyst - Hyd/Bangalore...</td>\n",
       "      <td>Bangalore/Bengaluru, Kolkata, Hyderabad/Secund...</td>\n",
       "      <td>Cognizant</td>\n",
       "      <td>6-9 Yrs</td>\n",
       "    </tr>\n",
       "    <tr>\n",
       "      <th>7</th>\n",
       "      <td>Payroll Transformation Data Analyst</td>\n",
       "      <td>Bangalore/Bengaluru</td>\n",
       "      <td>Arrow Electronics</td>\n",
       "      <td>5-10 Yrs</td>\n",
       "    </tr>\n",
       "    <tr>\n",
       "      <th>8</th>\n",
       "      <td>Payroll Transformation Data Analyst</td>\n",
       "      <td>Bangalore/Bengaluru</td>\n",
       "      <td>Arrow Electronics</td>\n",
       "      <td>3-7 Yrs</td>\n",
       "    </tr>\n",
       "    <tr>\n",
       "      <th>9</th>\n",
       "      <td>Master Data Management Business Analyst</td>\n",
       "      <td>Bangalore/Bengaluru</td>\n",
       "      <td>Accenture</td>\n",
       "      <td>6-8 Yrs</td>\n",
       "    </tr>\n",
       "  </tbody>\n",
       "</table>\n",
       "</div>"
      ],
      "text/plain": [
       "                                           Job_title  \\\n",
       "0                                Senior Data Analyst   \n",
       "1                                       Data Analyst   \n",
       "2                                       Data Analyst   \n",
       "3                        Data Analyst - CRM Platform   \n",
       "4                                       Data Analyst   \n",
       "5  Hiring For Data Analyst (DA)/ Team Lead (TL) -...   \n",
       "6  Call For Clinical Data Analyst - Hyd/Bangalore...   \n",
       "7                Payroll Transformation Data Analyst   \n",
       "8                Payroll Transformation Data Analyst   \n",
       "9            Master Data Management Business Analyst   \n",
       "\n",
       "                                        Job_location  \\\n",
       "0                       Bangalore/Bengaluru, Chennai   \n",
       "1  Bangalore/Bengaluru, Mangaluru/Mangalore, Pune...   \n",
       "2                                Bangalore/Bengaluru   \n",
       "3  Bangalore/Bengaluru, Mumbai, Hyderabad/Secunde...   \n",
       "4                                Bangalore/Bengaluru   \n",
       "5  Bangalore/Bengaluru, Kolkata, Hyderabad/Secund...   \n",
       "6  Bangalore/Bengaluru, Kolkata, Hyderabad/Secund...   \n",
       "7                                Bangalore/Bengaluru   \n",
       "8                                Bangalore/Bengaluru   \n",
       "9                                Bangalore/Bengaluru   \n",
       "\n",
       "               Company_name Exp_required  \n",
       "0                Latentview      3-6 Yrs  \n",
       "1  Coresight Research, Inc.      4-8 Yrs  \n",
       "2                    Varite      2-5 Yrs  \n",
       "3         Artech infosystem      1-6 Yrs  \n",
       "4                       Jar      0-4 Yrs  \n",
       "5                 Cognizant      3-8 Yrs  \n",
       "6                 Cognizant      6-9 Yrs  \n",
       "7         Arrow Electronics     5-10 Yrs  \n",
       "8         Arrow Electronics      3-7 Yrs  \n",
       "9                 Accenture      6-8 Yrs  "
      ]
     },
     "execution_count": 10,
     "metadata": {},
     "output_type": "execute_result"
    }
   ],
   "source": [
    "df=pd.DataFrame({'Job_title':job_title,'Job_location':job_location,'Company_name':company_name,'Exp_required':experience_required})\n",
    "df"
   ]
  },
  {
   "cell_type": "markdown",
   "id": "3e47a9f7",
   "metadata": {},
   "source": [
    "Q2: Write a python program to scrape data for “Data Scientist” Job position in “Bangalore” location. You have to scrape the job-title, job-location, company_name. You have to scrape first 10 jobs data. This task will be done in following steps:\n",
    "\n",
    "First get the webpage https://www.naukri.com/\n",
    "Enter “Data Scientist” in “Skill, Designations, Companies” field and enter “Bangalore” in “enter the location” field.\n",
    "Then click the search button.\n",
    "Then scrape the data for the first 10 jobs results you get.\n",
    "Finally create a dataframe of the scraped data."
   ]
  },
  {
   "cell_type": "code",
   "execution_count": 11,
   "id": "7cfbf9dc",
   "metadata": {},
   "outputs": [],
   "source": [
    "driver=webdriver.Chrome(r\"C:\\Program Files\\chromedriver.exe\")\n",
    "driver.get('https://www.naukri.com/')"
   ]
  },
  {
   "cell_type": "code",
   "execution_count": 12,
   "id": "25fa8497",
   "metadata": {},
   "outputs": [],
   "source": [
    "designation=driver.find_element(By.CLASS_NAME,\"suggestor-input\")\n",
    "designation.send_keys('Data Scientist')"
   ]
  },
  {
   "cell_type": "code",
   "execution_count": 13,
   "id": "0a6b5c38",
   "metadata": {},
   "outputs": [],
   "source": [
    "location=driver.find_element(By.XPATH,\"/html/body/div[1]/div[6]/div/div/div[5]/div/div/div/input\")\n",
    "location.send_keys('Bangalore')"
   ]
  },
  {
   "cell_type": "code",
   "execution_count": 14,
   "id": "b301b2e1",
   "metadata": {},
   "outputs": [],
   "source": [
    "search=driver.find_element(By.CLASS_NAME,\"qsbSubmit\")\n",
    "search.click()"
   ]
  },
  {
   "cell_type": "code",
   "execution_count": 15,
   "id": "e479e0bb",
   "metadata": {},
   "outputs": [],
   "source": [
    "job_title=[]\n",
    "job_location=[]\n",
    "company_name=[]"
   ]
  },
  {
   "cell_type": "code",
   "execution_count": 16,
   "id": "29fc5a8f",
   "metadata": {},
   "outputs": [],
   "source": [
    "title_tags=driver.find_elements(By.XPATH,'//a[@class=\"title fw500 ellipsis\"]')\n",
    "for i in title_tags[0:10]:\n",
    "    title=i.text\n",
    "    job_title.append(title)\n",
    "    \n",
    "location_tags=driver.find_elements(By.XPATH,'//li[@class=\"fleft grey-text br2 placeHolderLi location\"]')\n",
    "for i in location_tags[0:10]:\n",
    "    location=i.text\n",
    "    job_location.append(location)\n",
    "    \n",
    "company_tags=driver.find_elements(By.XPATH,'//a[@class=\"subTitle ellipsis fleft\"]')\n",
    "for i in company_tags[0:10]:\n",
    "    company=i.text\n",
    "    company_name.append(company)"
   ]
  },
  {
   "cell_type": "code",
   "execution_count": 17,
   "id": "f72b3302",
   "metadata": {},
   "outputs": [
    {
     "name": "stdout",
     "output_type": "stream",
     "text": [
      "10 10 10\n"
     ]
    }
   ],
   "source": [
    "print(len(job_title),len(job_location),len(company_name))"
   ]
  },
  {
   "cell_type": "code",
   "execution_count": 18,
   "id": "9b8cb0f1",
   "metadata": {},
   "outputs": [
    {
     "data": {
      "text/html": [
       "<div>\n",
       "<style scoped>\n",
       "    .dataframe tbody tr th:only-of-type {\n",
       "        vertical-align: middle;\n",
       "    }\n",
       "\n",
       "    .dataframe tbody tr th {\n",
       "        vertical-align: top;\n",
       "    }\n",
       "\n",
       "    .dataframe thead th {\n",
       "        text-align: right;\n",
       "    }\n",
       "</style>\n",
       "<table border=\"1\" class=\"dataframe\">\n",
       "  <thead>\n",
       "    <tr style=\"text-align: right;\">\n",
       "      <th></th>\n",
       "      <th>Job_title</th>\n",
       "      <th>Job_location</th>\n",
       "      <th>Company_name</th>\n",
       "    </tr>\n",
       "  </thead>\n",
       "  <tbody>\n",
       "    <tr>\n",
       "      <th>0</th>\n",
       "      <td>Data Science Specialist</td>\n",
       "      <td>Bangalore/Bengaluru, Kolkata, Mumbai, Hyderaba...</td>\n",
       "      <td>Accenture</td>\n",
       "    </tr>\n",
       "    <tr>\n",
       "      <th>1</th>\n",
       "      <td>Data Science Manager</td>\n",
       "      <td>Bangalore/Bengaluru, Kolkata, Mumbai, Hyderaba...</td>\n",
       "      <td>Accenture</td>\n",
       "    </tr>\n",
       "    <tr>\n",
       "      <th>2</th>\n",
       "      <td>Mongodb Database Administrator, Maria DB or Ca...</td>\n",
       "      <td>Bangalore/Bengaluru, Hyderabad/Secunderabad, P...</td>\n",
       "      <td>Mphasis</td>\n",
       "    </tr>\n",
       "    <tr>\n",
       "      <th>3</th>\n",
       "      <td>Assistant Manager - Data Science</td>\n",
       "      <td>Bangalore/Bengaluru, Mumbai, Pune</td>\n",
       "      <td>CitiusTech</td>\n",
       "    </tr>\n",
       "    <tr>\n",
       "      <th>4</th>\n",
       "      <td>Data Scientist</td>\n",
       "      <td>Bangalore/Bengaluru, New Delhi, Pune, Gurgaon/...</td>\n",
       "      <td>ZS Associates</td>\n",
       "    </tr>\n",
       "    <tr>\n",
       "      <th>5</th>\n",
       "      <td>Data Scientist</td>\n",
       "      <td>Bangalore/Bengaluru, Hyderabad/Secunderabad, P...</td>\n",
       "      <td>Tech Mahindra</td>\n",
       "    </tr>\n",
       "    <tr>\n",
       "      <th>6</th>\n",
       "      <td>Senior Data Scientist</td>\n",
       "      <td>Bangalore/Bengaluru, Mumbai, New Delhi, Chennai</td>\n",
       "      <td>Boston Consulting Group</td>\n",
       "    </tr>\n",
       "    <tr>\n",
       "      <th>7</th>\n",
       "      <td>Data Scientist: Artificial Intelligence</td>\n",
       "      <td>Bangalore/Bengaluru</td>\n",
       "      <td>IBM</td>\n",
       "    </tr>\n",
       "    <tr>\n",
       "      <th>8</th>\n",
       "      <td>Data Scientist - Computer Vision</td>\n",
       "      <td>Bangalore/Bengaluru</td>\n",
       "      <td>Walmart</td>\n",
       "    </tr>\n",
       "    <tr>\n",
       "      <th>9</th>\n",
       "      <td>Senior Data Scientist</td>\n",
       "      <td>Bangalore/Bengaluru, Pune, Chennai</td>\n",
       "      <td>Wipro</td>\n",
       "    </tr>\n",
       "  </tbody>\n",
       "</table>\n",
       "</div>"
      ],
      "text/plain": [
       "                                           Job_title  \\\n",
       "0                            Data Science Specialist   \n",
       "1                               Data Science Manager   \n",
       "2  Mongodb Database Administrator, Maria DB or Ca...   \n",
       "3                   Assistant Manager - Data Science   \n",
       "4                                     Data Scientist   \n",
       "5                                     Data Scientist   \n",
       "6                              Senior Data Scientist   \n",
       "7            Data Scientist: Artificial Intelligence   \n",
       "8                   Data Scientist - Computer Vision   \n",
       "9                              Senior Data Scientist   \n",
       "\n",
       "                                        Job_location             Company_name  \n",
       "0  Bangalore/Bengaluru, Kolkata, Mumbai, Hyderaba...                Accenture  \n",
       "1  Bangalore/Bengaluru, Kolkata, Mumbai, Hyderaba...                Accenture  \n",
       "2  Bangalore/Bengaluru, Hyderabad/Secunderabad, P...                  Mphasis  \n",
       "3                  Bangalore/Bengaluru, Mumbai, Pune               CitiusTech  \n",
       "4  Bangalore/Bengaluru, New Delhi, Pune, Gurgaon/...            ZS Associates  \n",
       "5  Bangalore/Bengaluru, Hyderabad/Secunderabad, P...            Tech Mahindra  \n",
       "6    Bangalore/Bengaluru, Mumbai, New Delhi, Chennai  Boston Consulting Group  \n",
       "7                                Bangalore/Bengaluru                      IBM  \n",
       "8                                Bangalore/Bengaluru                  Walmart  \n",
       "9                 Bangalore/Bengaluru, Pune, Chennai                    Wipro  "
      ]
     },
     "execution_count": 18,
     "metadata": {},
     "output_type": "execute_result"
    }
   ],
   "source": [
    "df=pd.DataFrame({'Job_title':job_title,'Job_location':job_location,'Company_name':company_name})\n",
    "df"
   ]
  },
  {
   "cell_type": "markdown",
   "id": "cda056dc",
   "metadata": {},
   "source": [
    "Q3: In this question you have to scrape data using the filters available on the webpage as shown below: You have to use the location and salary filter. You have to scrape data for “Data Scientist” designation for first 10 job results. You have to scrape the job-title, job-location, company name, experience required. The location filter to be used is “Delhi/NCR”. The salary filter to be used is “3-6” lakhs The task will be done as shown in the below steps:\n",
    "\n",
    "first get the webpage https://www.naukri.com/\n",
    "Enter “Data Scientist” in “Skill, Designations, and Companies” field.\n",
    "Then click the search button.\n",
    "Then apply the location filter and salary filter by checking the respective boxes\n",
    "Then scrape the data for the first 10 jobs results you get.\n",
    "Finally create a dataframe of the scraped data. Note: All of the above steps have to be done in code. No step is to be done manually."
   ]
  },
  {
   "cell_type": "code",
   "execution_count": 230,
   "id": "adcf8f0b",
   "metadata": {},
   "outputs": [],
   "source": [
    "driver=webdriver.Chrome(r\"C:\\Program Files\\chromedriver.exe\")\n",
    "driver.get('https://www.naukri.com/')\n",
    "\n",
    "designation=driver.find_element(By.CLASS_NAME,\"suggestor-input\")\n",
    "designation.send_keys('Data Scientist')"
   ]
  },
  {
   "cell_type": "code",
   "execution_count": 231,
   "id": "3fc8a9b4",
   "metadata": {},
   "outputs": [],
   "source": [
    "search=driver.find_element(By.CLASS_NAME,\"qsbSubmit\")\n",
    "search.click()"
   ]
  },
  {
   "cell_type": "code",
   "execution_count": 232,
   "id": "7c72d833",
   "metadata": {},
   "outputs": [],
   "source": [
    "loc_filter=driver.find_elements(By.XPATH,'//p[@class=\"grey-text lH20 fleft ml-8 txtLbl\"]//span')\n",
    "for i in loc_filter :\n",
    "    if (i.text=='Delhi / NCR'):\n",
    "        i.click()\n",
    "        break"
   ]
  },
  {
   "cell_type": "code",
   "execution_count": 233,
   "id": "42d2b8ff",
   "metadata": {},
   "outputs": [],
   "source": [
    "sal_filter=driver.find_elements(By.XPATH,'//p[@class=\"grey-text lH20 fleft ml-8 txtLbl\"]//span')\n",
    "for i in sal_filter:\n",
    "    if(i.text=='3-6 Lakhs'):\n",
    "        i.click()\n",
    "        break"
   ]
  },
  {
   "cell_type": "code",
   "execution_count": 234,
   "id": "e2c2a673",
   "metadata": {},
   "outputs": [],
   "source": [
    "job_title=driver.find_elements(By.XPATH,'//a[@class=\"title fw500 ellipsis\"]')\n",
    "job=[]\n",
    "for i in job_title:\n",
    "    job.append(i.text)"
   ]
  },
  {
   "cell_type": "code",
   "execution_count": 235,
   "id": "44df95ff",
   "metadata": {},
   "outputs": [],
   "source": [
    "loc=driver.find_elements(By.XPATH,'//li[@class=\"fleft grey-text br2 placeHolderLi location\"]')\n",
    "location=[]\n",
    "for i in loc:\n",
    "    location.append(i.text)"
   ]
  },
  {
   "cell_type": "code",
   "execution_count": 236,
   "id": "c921d8ba",
   "metadata": {},
   "outputs": [],
   "source": [
    "company_name=driver.find_elements(By.XPATH,'//a[@class=\"subTitle ellipsis fleft\"]')\n",
    "company=[]\n",
    "for i in company_name:\n",
    "    company.append(i.text)"
   ]
  },
  {
   "cell_type": "code",
   "execution_count": 237,
   "id": "3581a5ef",
   "metadata": {},
   "outputs": [],
   "source": [
    "exp_req=driver.find_elements(By.XPATH,'//li[@class=\"fleft grey-text br2 placeHolderLi experience\"]/span')\n",
    "experience=[]\n",
    "for i in exp_req:\n",
    "    experience.append(i.text)"
   ]
  },
  {
   "cell_type": "code",
   "execution_count": 238,
   "id": "10a7a57c",
   "metadata": {},
   "outputs": [
    {
     "data": {
      "text/html": [
       "<div>\n",
       "<style scoped>\n",
       "    .dataframe tbody tr th:only-of-type {\n",
       "        vertical-align: middle;\n",
       "    }\n",
       "\n",
       "    .dataframe tbody tr th {\n",
       "        vertical-align: top;\n",
       "    }\n",
       "\n",
       "    .dataframe thead th {\n",
       "        text-align: right;\n",
       "    }\n",
       "</style>\n",
       "<table border=\"1\" class=\"dataframe\">\n",
       "  <thead>\n",
       "    <tr style=\"text-align: right;\">\n",
       "      <th></th>\n",
       "      <th>JOB_TITLE</th>\n",
       "      <th>JOB_LOCATION</th>\n",
       "      <th>COMPANY_NAME</th>\n",
       "      <th>EXPERIENCE_REQUIRED</th>\n",
       "    </tr>\n",
       "  </thead>\n",
       "  <tbody>\n",
       "    <tr>\n",
       "      <th>0</th>\n",
       "      <td>Data Scientist</td>\n",
       "      <td>Noida, Nagpur, Bangalore/Bengaluru</td>\n",
       "      <td>GlobalLogic</td>\n",
       "      <td>8-10 Yrs</td>\n",
       "    </tr>\n",
       "    <tr>\n",
       "      <th>1</th>\n",
       "      <td>DigitalBCG GAMMA Data Scientist</td>\n",
       "      <td>New Delhi, Bangalore/Bengaluru</td>\n",
       "      <td>Boston Consulting Group</td>\n",
       "      <td>2-5 Yrs</td>\n",
       "    </tr>\n",
       "    <tr>\n",
       "      <th>2</th>\n",
       "      <td>Data Scientist</td>\n",
       "      <td>Gurgaon/Gurugram</td>\n",
       "      <td>IHS Markit</td>\n",
       "      <td>3-6 Yrs</td>\n",
       "    </tr>\n",
       "    <tr>\n",
       "      <th>3</th>\n",
       "      <td>Lead Data Scientist</td>\n",
       "      <td>Noida(Sector-59 Noida)\\n(WFH during Covid)</td>\n",
       "      <td>R Systems International</td>\n",
       "      <td>7-10 Yrs</td>\n",
       "    </tr>\n",
       "    <tr>\n",
       "      <th>4</th>\n",
       "      <td>Data Scientist</td>\n",
       "      <td>Gurgaon/Gurugram</td>\n",
       "      <td>Optum</td>\n",
       "      <td>2-7 Yrs</td>\n",
       "    </tr>\n",
       "    <tr>\n",
       "      <th>5</th>\n",
       "      <td>Data Scientist / Chat-bot Developer</td>\n",
       "      <td>New Delhi, Bangalore/Bengaluru, Mumbai (All Ar...</td>\n",
       "      <td>Big Seo Buzz</td>\n",
       "      <td>3-7 Yrs</td>\n",
       "    </tr>\n",
       "    <tr>\n",
       "      <th>6</th>\n",
       "      <td>Data Scientist - Engine Algorithm</td>\n",
       "      <td>Delhi / NCR, Kolkata, Mumbai, Hyderabad/Secund...</td>\n",
       "      <td>Primo Hiring</td>\n",
       "      <td>1-3 Yrs</td>\n",
       "    </tr>\n",
       "    <tr>\n",
       "      <th>7</th>\n",
       "      <td>Data Activation Specialist - Adobe Target</td>\n",
       "      <td>Delhi / NCR, Kolkata, Mumbai, Hyderabad/Secund...</td>\n",
       "      <td>Okda Solutions</td>\n",
       "      <td>7-10 Yrs</td>\n",
       "    </tr>\n",
       "    <tr>\n",
       "      <th>8</th>\n",
       "      <td>Data Scientist</td>\n",
       "      <td>Noida</td>\n",
       "      <td>NGI Ventures</td>\n",
       "      <td>0-5 Yrs</td>\n",
       "    </tr>\n",
       "    <tr>\n",
       "      <th>9</th>\n",
       "      <td>Data Scientist</td>\n",
       "      <td>Dehradun, Hyderabad/Secunderabad, Gurgaon/Guru...</td>\n",
       "      <td>torcai digital media</td>\n",
       "      <td>2-7 Yrs</td>\n",
       "    </tr>\n",
       "  </tbody>\n",
       "</table>\n",
       "</div>"
      ],
      "text/plain": [
       "                                   JOB_TITLE  \\\n",
       "0                             Data Scientist   \n",
       "1            DigitalBCG GAMMA Data Scientist   \n",
       "2                             Data Scientist   \n",
       "3                        Lead Data Scientist   \n",
       "4                             Data Scientist   \n",
       "5        Data Scientist / Chat-bot Developer   \n",
       "6          Data Scientist - Engine Algorithm   \n",
       "7  Data Activation Specialist - Adobe Target   \n",
       "8                             Data Scientist   \n",
       "9                             Data Scientist   \n",
       "\n",
       "                                        JOB_LOCATION             COMPANY_NAME  \\\n",
       "0                 Noida, Nagpur, Bangalore/Bengaluru              GlobalLogic   \n",
       "1                     New Delhi, Bangalore/Bengaluru  Boston Consulting Group   \n",
       "2                                   Gurgaon/Gurugram               IHS Markit   \n",
       "3         Noida(Sector-59 Noida)\\n(WFH during Covid)  R Systems International   \n",
       "4                                   Gurgaon/Gurugram                    Optum   \n",
       "5  New Delhi, Bangalore/Bengaluru, Mumbai (All Ar...             Big Seo Buzz   \n",
       "6  Delhi / NCR, Kolkata, Mumbai, Hyderabad/Secund...             Primo Hiring   \n",
       "7  Delhi / NCR, Kolkata, Mumbai, Hyderabad/Secund...           Okda Solutions   \n",
       "8                                              Noida             NGI Ventures   \n",
       "9  Dehradun, Hyderabad/Secunderabad, Gurgaon/Guru...     torcai digital media   \n",
       "\n",
       "  EXPERIENCE_REQUIRED  \n",
       "0            8-10 Yrs  \n",
       "1             2-5 Yrs  \n",
       "2             3-6 Yrs  \n",
       "3            7-10 Yrs  \n",
       "4             2-7 Yrs  \n",
       "5             3-7 Yrs  \n",
       "6             1-3 Yrs  \n",
       "7            7-10 Yrs  \n",
       "8             0-5 Yrs  \n",
       "9             2-7 Yrs  "
      ]
     },
     "execution_count": 238,
     "metadata": {},
     "output_type": "execute_result"
    }
   ],
   "source": [
    "df=pd.DataFrame()\n",
    "df[\"JOB_TITLE\"]=job[:10]\n",
    "df[\"JOB_LOCATION\"]=location[:10]\n",
    "df[\"COMPANY_NAME\"]=company[:10]\n",
    "df[\"EXPERIENCE_REQUIRED\"]=experience[:10]\n",
    "df"
   ]
  },
  {
   "cell_type": "markdown",
   "id": "c079e922",
   "metadata": {},
   "source": [
    "Q4: Scrape data of first 100 sunglasses listings on flipkart.com. You have to scrape four attributes:\n",
    "\n",
    "Brand\n",
    "Product Description\n",
    "Price To scrape the data you have to go through following steps:\n",
    "Go to Flipkart webpage by url : https://www.flipkart.com/\n",
    "Enter “sunglasses” in the search field where “search for products, brands and more” is written and click the search icon\n",
    "After that you will reach to the page having a lot of sunglasses. From this page you can scrap the required data as usual.\n",
    "After scraping data from the first page, go to the “Next” Button at the bottom other page , then click on it.\n",
    "Now scrape data from this page as usual\n",
    "Repeat this until you get data for 100 sunglasses."
   ]
  },
  {
   "cell_type": "code",
   "execution_count": 187,
   "id": "b26352da",
   "metadata": {},
   "outputs": [],
   "source": [
    "driver=webdriver.Chrome(r\"C:\\Program Files\\chromedriver.exe\")\n",
    "url=('https://www.flipkart.com/')\n",
    "driver.get(url)\n",
    "driver.maximize_window()"
   ]
  },
  {
   "cell_type": "code",
   "execution_count": 188,
   "id": "fd282de3",
   "metadata": {},
   "outputs": [],
   "source": [
    "email_btn=driver.find_element(By.XPATH,'//input[@class=\"_2IX_2- VJZDxU\"]')\n",
    "email_btn.send_keys('9819452589')\n",
    "password_btn=driver.find_element(By.XPATH,'//input[@class=\"_2IX_2- _3mctLh VJZDxU\"]')\n",
    "password_btn.send_keys(\"Angel@160590\")\n",
    "login_btn=driver.find_element(By.XPATH,'//button[@class=\"_2KpZ6l _2HKlqd _3AWRsL\"]')\n",
    "login_btn.click()"
   ]
  },
  {
   "cell_type": "code",
   "execution_count": 189,
   "id": "521e8b2c",
   "metadata": {},
   "outputs": [],
   "source": [
    "product=driver.find_element(By.CLASS_NAME,\"_3704LK\")\n",
    "product.send_keys('sunglasses')\n",
    "\n",
    "search=driver.find_element(By.CLASS_NAME,\"L0Z3Pu\")\n",
    "search.click()"
   ]
  },
  {
   "cell_type": "code",
   "execution_count": 190,
   "id": "9e85d169",
   "metadata": {},
   "outputs": [],
   "source": [
    "def brand_name(url):\n",
    "    brand=[]\n",
    "    driver.get(url)\n",
    "    try:\n",
    "        brand_el=driver.find_elements(By.XPATH,'//div[@class=\"_2WkVRV\"]')\n",
    "        time.sleep(3)\n",
    "        \n",
    "        for i in brand_el:\n",
    "            brand.append(i.text)\n",
    "        driver.execute_script(\"window.scrollBy(0,document.body.scrollHeight0)\")\n",
    "        \n",
    "        return brand\n",
    "    except StaleElementReferenceException as e:\n",
    "        print(\"exception raised\",e)"
   ]
  },
  {
   "cell_type": "code",
   "execution_count": 191,
   "id": "988e3ec8",
   "metadata": {},
   "outputs": [],
   "source": [
    "def product_des(url):\n",
    "    product_des=[]\n",
    "    driver.get(url)\n",
    "    product_el=driver.find_elements(By.XPATH,'//a[@class=\"IRpwTa\"]')\n",
    "    for i in product_el:\n",
    "        try:\n",
    "            product_des.append(i.text)\n",
    "            driver.execute_script(\"window.scrollBy(0,document.body.scrollHeight0)\")\n",
    "        except:\n",
    "                product_des.append(\"--\")\n",
    "                \n",
    "    return product_des"
   ]
  },
  {
   "cell_type": "code",
   "execution_count": 192,
   "id": "29d04484",
   "metadata": {},
   "outputs": [],
   "source": [
    "def scrape_price(url):\n",
    "    price=[]\n",
    "    driver.get(url)\n",
    "    price_el=driver.find_elements(By.XPATH,'//div[@class=\"_30jeq3\"]')\n",
    "    \n",
    "    for i in price_el:\n",
    "        try:\n",
    "            price.append(i.text)\n",
    "            driver.execute_script(\"window.scrollBy(0,document.body.scrollHeight0)\")\n",
    "            \n",
    "        except:\n",
    "            price.append(\"--\")\n",
    "            \n",
    "    return price"
   ]
  },
  {
   "cell_type": "code",
   "execution_count": 34,
   "id": "8b6e206a",
   "metadata": {},
   "outputs": [],
   "source": [
    "brand_list=[]\n",
    "product_list=[]\n",
    "price_list=[]\n",
    "urls='https://www.flipkart.com/search?q=sunglasses&otracker=search&otracker1=search&marketplace=FLIPKART&as-show=on&as=off'\n",
    "for i in ['1','2','3']:\n",
    "    \n",
    "    url=urls+i\n",
    "    time.sleep(5)\n",
    "    brand=brand_name(url)\n",
    "    brand_list.extend(brand) \n",
    "    product=product_des(url)\n",
    "    product_list.extend(product)\n",
    "    price=scrape_price(url)\n",
    "    price_list.extend(price)"
   ]
  },
  {
   "cell_type": "code",
   "execution_count": 35,
   "id": "d8791dd7",
   "metadata": {},
   "outputs": [
    {
     "data": {
      "text/plain": [
       "[120, 120, 120]"
      ]
     },
     "execution_count": 35,
     "metadata": {},
     "output_type": "execute_result"
    }
   ],
   "source": [
    "length=[len(brand_list),len(product_list),len(price_list)]\n",
    "length"
   ]
  },
  {
   "cell_type": "code",
   "execution_count": 36,
   "id": "ad4059a4",
   "metadata": {},
   "outputs": [
    {
     "data": {
      "text/html": [
       "<div>\n",
       "<style scoped>\n",
       "    .dataframe tbody tr th:only-of-type {\n",
       "        vertical-align: middle;\n",
       "    }\n",
       "\n",
       "    .dataframe tbody tr th {\n",
       "        vertical-align: top;\n",
       "    }\n",
       "\n",
       "    .dataframe thead th {\n",
       "        text-align: right;\n",
       "    }\n",
       "</style>\n",
       "<table border=\"1\" class=\"dataframe\">\n",
       "  <thead>\n",
       "    <tr style=\"text-align: right;\">\n",
       "      <th></th>\n",
       "      <th>BRAND</th>\n",
       "      <th>PRODUCT_DESCRIPTION</th>\n",
       "      <th>PRICE</th>\n",
       "    </tr>\n",
       "  </thead>\n",
       "  <tbody>\n",
       "    <tr>\n",
       "      <th>0</th>\n",
       "      <td>Fastrack</td>\n",
       "      <td>UV Protection Wayfarer Sunglasses (Free Size)</td>\n",
       "      <td>₹799</td>\n",
       "    </tr>\n",
       "    <tr>\n",
       "      <th>1</th>\n",
       "      <td>NuVew</td>\n",
       "      <td>UV Protection Aviator Sunglasses (57)</td>\n",
       "      <td>₹198</td>\n",
       "    </tr>\n",
       "    <tr>\n",
       "      <th>2</th>\n",
       "      <td>SHAAH COLLECTIONS</td>\n",
       "      <td>UV Protection Round Sunglasses (54)</td>\n",
       "      <td>₹179</td>\n",
       "    </tr>\n",
       "    <tr>\n",
       "      <th>3</th>\n",
       "      <td>DEIXELS</td>\n",
       "      <td>Polarized, UV Protection, Riding Glasses Wayfa...</td>\n",
       "      <td>₹249</td>\n",
       "    </tr>\n",
       "    <tr>\n",
       "      <th>4</th>\n",
       "      <td>SHAAH COLLECTIONS</td>\n",
       "      <td>UV Protection, Mirrored Wayfarer Sunglasses (54)</td>\n",
       "      <td>₹179</td>\n",
       "    </tr>\n",
       "    <tr>\n",
       "      <th>...</th>\n",
       "      <td>...</td>\n",
       "      <td>...</td>\n",
       "      <td>...</td>\n",
       "    </tr>\n",
       "    <tr>\n",
       "      <th>95</th>\n",
       "      <td>PIRASO</td>\n",
       "      <td>UV Protection Rectangular Sunglasses (52)</td>\n",
       "      <td>₹246</td>\n",
       "    </tr>\n",
       "    <tr>\n",
       "      <th>96</th>\n",
       "      <td>SHAAH COLLECTIONS</td>\n",
       "      <td>UV Protection Aviator Sunglasses (54)</td>\n",
       "      <td>₹179</td>\n",
       "    </tr>\n",
       "    <tr>\n",
       "      <th>97</th>\n",
       "      <td>SHAAH COLLECTIONS</td>\n",
       "      <td>UV Protection, Mirrored Wayfarer Sunglasses (54)</td>\n",
       "      <td>₹179</td>\n",
       "    </tr>\n",
       "    <tr>\n",
       "      <th>98</th>\n",
       "      <td>NuVew</td>\n",
       "      <td>UV Protection Wayfarer Sunglasses (57)</td>\n",
       "      <td>₹157</td>\n",
       "    </tr>\n",
       "    <tr>\n",
       "      <th>99</th>\n",
       "      <td>SHAAH COLLECTIONS</td>\n",
       "      <td>UV Protection Rectangular Sunglasses (Free Size)</td>\n",
       "      <td>₹179</td>\n",
       "    </tr>\n",
       "  </tbody>\n",
       "</table>\n",
       "<p>100 rows × 3 columns</p>\n",
       "</div>"
      ],
      "text/plain": [
       "                BRAND                                PRODUCT_DESCRIPTION PRICE\n",
       "0            Fastrack      UV Protection Wayfarer Sunglasses (Free Size)  ₹799\n",
       "1               NuVew              UV Protection Aviator Sunglasses (57)  ₹198\n",
       "2   SHAAH COLLECTIONS                UV Protection Round Sunglasses (54)  ₹179\n",
       "3             DEIXELS  Polarized, UV Protection, Riding Glasses Wayfa...  ₹249\n",
       "4   SHAAH COLLECTIONS   UV Protection, Mirrored Wayfarer Sunglasses (54)  ₹179\n",
       "..                ...                                                ...   ...\n",
       "95             PIRASO          UV Protection Rectangular Sunglasses (52)  ₹246\n",
       "96  SHAAH COLLECTIONS              UV Protection Aviator Sunglasses (54)  ₹179\n",
       "97  SHAAH COLLECTIONS   UV Protection, Mirrored Wayfarer Sunglasses (54)  ₹179\n",
       "98              NuVew             UV Protection Wayfarer Sunglasses (57)  ₹157\n",
       "99  SHAAH COLLECTIONS   UV Protection Rectangular Sunglasses (Free Size)  ₹179\n",
       "\n",
       "[100 rows x 3 columns]"
      ]
     },
     "execution_count": 36,
     "metadata": {},
     "output_type": "execute_result"
    }
   ],
   "source": [
    "df=pd.DataFrame()\n",
    "df[\"BRAND\"]=brand_list[:100]\n",
    "df[\"PRODUCT_DESCRIPTION\"]=product_list[:100]\n",
    "df[\"PRICE\"]=price_list[:100]\n",
    "df"
   ]
  },
  {
   "cell_type": "markdown",
   "id": "97e829bd",
   "metadata": {},
   "source": [
    "Q5: Scrape 100 reviews data from flipkart.com for iphone11 phone. This task will be done in following steps:\n",
    "\n",
    "First get the webpage https://www.flipkart.com/\n",
    "Enter “iphone 11” in “Search” field .\n",
    "Then click the search button.\n",
    "As shown in the above page you have to scrape the tick marked attributes.These are:\n",
    "\n",
    "Rating\n",
    "Review summary\n",
    "Full review\n",
    "You have to scrape this data for first 100 reviews."
   ]
  },
  {
   "cell_type": "code",
   "execution_count": 360,
   "id": "52c3124c",
   "metadata": {},
   "outputs": [],
   "source": [
    "driver=webdriver.Chrome(r\"C:\\Program Files\\chromedriver.exe\")\n",
    "url='https://www.flipkart.com/'\n",
    "driver.get(url)\n",
    "driver.maximize_window()"
   ]
  },
  {
   "cell_type": "code",
   "execution_count": 361,
   "id": "5fe436e2",
   "metadata": {},
   "outputs": [],
   "source": [
    "email_btn=driver.find_element(By.XPATH,'//input[@class=\"_2IX_2- VJZDxU\"]')\n",
    "email_btn.send_keys('9819452589')\n",
    "password_btn=driver.find_element(By.XPATH,'//input[@class=\"_2IX_2- _3mctLh VJZDxU\"]')\n",
    "password_btn.send_keys(\"Angel@160590\")\n",
    "login_btn=driver.find_element(By.XPATH,'//button[@class=\"_2KpZ6l _2HKlqd _3AWRsL\"]')\n",
    "login_btn.click()"
   ]
  },
  {
   "cell_type": "code",
   "execution_count": 362,
   "id": "e7481060",
   "metadata": {},
   "outputs": [],
   "source": [
    "product=driver.find_element(By.CLASS_NAME,\"_3704LK\")\n",
    "product.send_keys('iphone 11')\n",
    "search=driver.find_element(By.CLASS_NAME,\"L0Z3Pu\")\n",
    "search.click()"
   ]
  },
  {
   "cell_type": "code",
   "execution_count": 366,
   "id": "67620683",
   "metadata": {},
   "outputs": [],
   "source": [
    "iphone=driver.find_element(By.CLASS_NAME,'_4rR01T')\n",
    "iphone.click()"
   ]
  },
  {
   "cell_type": "code",
   "execution_count": 368,
   "id": "57f6e038",
   "metadata": {},
   "outputs": [],
   "source": [
    "url1='https://www.flipkart.com/apple-iphone-11-black-128-gb/product-reviews/itm8244e8d955aba?pid=MOBFWQ6BKRYBP5X8&lid=LSTMOBFWQ6BKRYBP5X8X0KYUG&marketplace=FLIPKART'"
   ]
  },
  {
   "cell_type": "code",
   "execution_count": 369,
   "id": "7ddc7e9b",
   "metadata": {},
   "outputs": [],
   "source": [
    "def scrape_rating():\n",
    "    rating=[]\n",
    "    driver.refresh()\n",
    "    rating_el=driver.find_elements(By.XPATH,'//div[@class=\"_3LWZlK _1BLPMq\"]')\n",
    "    time.sleep(3)\n",
    "    for i in rating_el:\n",
    "        try:\n",
    "            rating.append(i.text)\n",
    "            driver.execute_script(\"window.scrollBy(0,document.body.scrollHeight0)\")\n",
    "        except:\n",
    "            rating.append(\"--\")\n",
    "    return rating"
   ]
  },
  {
   "cell_type": "code",
   "execution_count": 370,
   "id": "08785c4c",
   "metadata": {},
   "outputs": [],
   "source": [
    "def scrape_review_summary():\n",
    "    review_sum=[]\n",
    "    driver.refresh()\n",
    "    rev_sum=driver.find_elements(By.XPATH,'//p[@class=\"_2-N8zT\"]')\n",
    "    time.sleep(3)\n",
    "    for i in rev_sum:\n",
    "        try:\n",
    "            review_sum.append(i.text)\n",
    "            driver.execute_script(\"window.scrollBy(0,document.body.scrollHeight0)\")\n",
    "        except:\n",
    "            review_sum.append(\"--\")\n",
    "    return review_sum"
   ]
  },
  {
   "cell_type": "code",
   "execution_count": 371,
   "id": "f8876c05",
   "metadata": {},
   "outputs": [],
   "source": [
    "def scrape_full_review():\n",
    "    full_review=[]\n",
    "    driver.refresh()\n",
    "    rev_el=driver.find_elements(By.XPATH,'//div[@class=\"t-ZTKy\"]/div')\n",
    "    time.sleep(3)\n",
    "    for i in rev_el:\n",
    "        try:\n",
    "            full_review.append(i.text.replace(\"\\n\",\"  New Line: \"))\n",
    "            driver.execute_script(\"window.scrollBy(0,document.body.scrollHeight0)\")\n",
    "        except:\n",
    "            full_review.append(\"--\")\n",
    "    return full_review"
   ]
  },
  {
   "cell_type": "code",
   "execution_count": null,
   "id": "cb6cb323",
   "metadata": {},
   "outputs": [],
   "source": [
    "rating=[]\n",
    "review_sum=[]\n",
    "full_review=[]\n",
    "length=len(rating)\n",
    "while(length<=100):\n",
    "    rating.extend(scrape_rating())\n",
    "    review_sum.extend(scrape_review_summary())\n",
    "    full_review.extend(scrape_full_review())\n",
    "    time.sleep(3)\n",
    "    length=len(rating)\n",
    "    next_btn=driver.find_element(By.XPATH,'//a[@class=\"_1LKTO3\"]/span')\n",
    "    next_btn.click()\n",
    "    \n",
    "len(review_sum)"
   ]
  },
  {
   "cell_type": "code",
   "execution_count": null,
   "id": "5d4f072e",
   "metadata": {},
   "outputs": [],
   "source": [
    "length_list=[len(full_review),len(rating),len(review_sum)]\n",
    "length_list"
   ]
  },
  {
   "cell_type": "code",
   "execution_count": null,
   "id": "7ba06492",
   "metadata": {},
   "outputs": [],
   "source": [
    "df=pd.DataFrame()\n",
    "df[\"INDEX\"]=range(1,101)\n",
    "df[\"RATING\"]=rating[:100]\n",
    "df[\"REVIEW_SUMMARY\"]=review_sum[:100]\n",
    "df[\"FULL_REVIEW\"]=full_review[:100]\n",
    "df.set_index(\"INDEX\",inplace=True)\n",
    "df"
   ]
  },
  {
   "cell_type": "markdown",
   "id": "81273c0a",
   "metadata": {},
   "source": [
    "Q6: Scrape data for first 100 sneakers you find when you visit flipkart.com and search for “sneakers” in the search field. You have to scrape 4 attributes of each sneaker:\n",
    "\n",
    "Brand\n",
    "Product Description\n",
    "Price"
   ]
  },
  {
   "cell_type": "code",
   "execution_count": 49,
   "id": "2f2e9320",
   "metadata": {},
   "outputs": [],
   "source": [
    "driver=webdriver.Chrome(r\"C:\\Program Files\\chromedriver.exe\")\n",
    "url='https://www.flipkart.com/'\n",
    "driver.get(url)"
   ]
  },
  {
   "cell_type": "code",
   "execution_count": 51,
   "id": "0a0e77e4",
   "metadata": {},
   "outputs": [],
   "source": [
    "email_btn=driver.find_element(By.XPATH,'//input[@class=\"_2IX_2- VJZDxU\"]')\n",
    "email_btn.send_keys('9819452589')\n",
    "password_btn=driver.find_element(By.XPATH,'//input[@class=\"_2IX_2- _3mctLh VJZDxU\"]')\n",
    "password_btn.send_keys(\"Angel@160590\")\n",
    "login_btn=driver.find_element(By.XPATH,'//button[@class=\"_2KpZ6l _2HKlqd _3AWRsL\"]')\n",
    "login_btn.click()"
   ]
  },
  {
   "cell_type": "code",
   "execution_count": 52,
   "id": "13b67230",
   "metadata": {},
   "outputs": [],
   "source": [
    "product=driver.find_element(By.CLASS_NAME,\"_3704LK\")\n",
    "product.send_keys('sneakers')\n",
    "\n",
    "search=driver.find_element(By.CLASS_NAME,\"L0Z3Pu\")\n",
    "search.click()"
   ]
  },
  {
   "cell_type": "code",
   "execution_count": 53,
   "id": "4f1132d8",
   "metadata": {},
   "outputs": [],
   "source": [
    "def scrape_brand():\n",
    "    brand=[]\n",
    "    brand_el=driver.find_elements(By.XPATH,'//div[@class=\"_2WkVRV\"]')\n",
    "    time.sleep(3)\n",
    "    for i in brand_el:\n",
    "        try:\n",
    "            brand.append(i.text)\n",
    "            driver.execute_script(\"window.scrollBy(0,document.body.scrollHeight0)\")\n",
    "        except:\n",
    "            brand.append(\"--\")\n",
    "    return brand"
   ]
  },
  {
   "cell_type": "code",
   "execution_count": 54,
   "id": "d09174c0",
   "metadata": {},
   "outputs": [],
   "source": [
    "def scrape_product_des():\n",
    "    product_des=[]\n",
    "    des_el=driver.find_elements(By.XPATH,'//a[@class=\"IRpwTa _2-ICcC\"]')\n",
    "    print(len(des_el))\n",
    "    time.sleep(3)\n",
    "    for i in des_el:\n",
    "        try:\n",
    "            product_des.append(i.text)\n",
    "            driver.execute_script(\"window.scrollBy(0,document.body.scrollHeight0)\")\n",
    "        except:\n",
    "            product_des.append(\"--\")\n",
    "    return product_des"
   ]
  },
  {
   "cell_type": "code",
   "execution_count": 55,
   "id": "81a5c633",
   "metadata": {},
   "outputs": [],
   "source": [
    "def scrape_price():\n",
    "    price=[]\n",
    "    price_el=driver.find_elements(By.XPATH,'//div[@class=\"_30jeq3\"]')\n",
    "    time.sleep(3)\n",
    "    for i in price_el:\n",
    "        try:\n",
    "            price.append(i.text)\n",
    "            driver.execute_script(\"window.scrollBy(0,document.body.scrollHeight0)\")\n",
    "        except:\n",
    "            price.append(\"--\")\n",
    "    return price"
   ]
  },
  {
   "cell_type": "code",
   "execution_count": 56,
   "id": "538c3a10",
   "metadata": {},
   "outputs": [
    {
     "name": "stdout",
     "output_type": "stream",
     "text": [
      "1\n",
      "1\n",
      "1\n"
     ]
    },
    {
     "data": {
      "text/plain": [
       "120"
      ]
     },
     "execution_count": 56,
     "metadata": {},
     "output_type": "execute_result"
    }
   ],
   "source": [
    "brand=[]\n",
    "product_des=[]\n",
    "price=[]\n",
    "length=len(brand)\n",
    "while(length<=100):\n",
    "    driver.refresh()\n",
    "    brand.extend(scrape_brand())\n",
    "    product_des.extend(scrape_product_des())\n",
    "    price.extend(scrape_price())\n",
    "    time.sleep(3)\n",
    "    next_btn=driver.find_element(By.XPATH,'//a[@class=\"_1LKTO3\"]/span')\n",
    "    next_btn.click()\n",
    "    length=len(brand)\n",
    "len(price)"
   ]
  },
  {
   "cell_type": "code",
   "execution_count": 57,
   "id": "a95e23de",
   "metadata": {},
   "outputs": [
    {
     "data": {
      "text/plain": [
       "[120, 3, 120]"
      ]
     },
     "execution_count": 57,
     "metadata": {},
     "output_type": "execute_result"
    }
   ],
   "source": [
    "length_list=[len(brand),len(product_des),len(price)]\n",
    "length_list"
   ]
  },
  {
   "cell_type": "code",
   "execution_count": null,
   "id": "bc08de1a",
   "metadata": {},
   "outputs": [],
   "source": [
    "sneakers=pd.DataFrame()\n",
    "sneakers[\"INDEX\"]=range(1,101)\n",
    "sneakers[\"BRAND\"]=brand[:100]\n",
    "sneakers[\"PRODUCT_DESCRIPTION\"]=product_des[:100]\n",
    "sneakers[\"PRICE\"]=price[:100]\n",
    "sneakers.set_index(\"INDEX\",inplace=True)\n",
    "sneakers"
   ]
  },
  {
   "cell_type": "markdown",
   "id": "adbde892",
   "metadata": {},
   "source": [
    "Q7: Go to the link - https://www.myntra.com/shoes Set second Price filter and Color filter to “Black”, as shown in the below image."
   ]
  },
  {
   "cell_type": "code",
   "execution_count": 58,
   "id": "e69a99a3",
   "metadata": {},
   "outputs": [],
   "source": [
    "driver=webdriver.Chrome(r\"C:\\Program Files\\chromedriver.exe\")\n",
    "url='https://www.myntra.com/shoes'\n",
    "driver.get(url)\n",
    "driver.maximize_window()"
   ]
  },
  {
   "cell_type": "code",
   "execution_count": 59,
   "id": "06210360",
   "metadata": {},
   "outputs": [],
   "source": [
    "price_filter=driver.find_elements(By.XPATH,'//label[@class=\"common-customCheckbox vertical-filters-label\"]')\n",
    "\n",
    "price_filter[7].click()"
   ]
  },
  {
   "cell_type": "code",
   "execution_count": 60,
   "id": "d2a8458b",
   "metadata": {},
   "outputs": [],
   "source": [
    "colour_filter=driver.find_elements(By.XPATH,'//label[@class=\"common-customCheckbox\"]')\n",
    "\n",
    "colour_filter[0].click()"
   ]
  },
  {
   "cell_type": "code",
   "execution_count": 61,
   "id": "8d257e7f",
   "metadata": {},
   "outputs": [],
   "source": [
    "def scrape_brand():\n",
    "    brand=[]\n",
    "    brand_el=driver.find_elements(By.XPATH,'//div[@class=\"product-productMetaInfo\"]')\n",
    "    time.sleep(3)\n",
    "    for i in brand_el:\n",
    "        try:\n",
    "            brand.append(i.text)\n",
    "            driver.execute_script(\"window.scrollBy(0,document.body.scrollHeight0)\")\n",
    "        except:\n",
    "            brand.append(\"--\")\n",
    "            \n",
    "    return brand"
   ]
  },
  {
   "cell_type": "code",
   "execution_count": 62,
   "id": "95b55680",
   "metadata": {},
   "outputs": [],
   "source": [
    "def scrape_des():\n",
    "    description=[]\n",
    "    des_el=driver.find_elements(By.XPATH,'//div[@class=\"product-productMetaInfo\"]/h4')\n",
    "    time.sleep(3)\n",
    "    for i in des_el:\n",
    "        try:\n",
    "            description.append(i.text)\n",
    "            driver.execute_script(\"window.scrollBy(0,document.body.scrollHeight0)\")\n",
    "        except:\n",
    "            description.append(\"--\")\n",
    "    return description"
   ]
  },
  {
   "cell_type": "code",
   "execution_count": 63,
   "id": "ab20ff17",
   "metadata": {},
   "outputs": [],
   "source": [
    "def scrape_price():\n",
    "    price=[]\n",
    "    price_el=driver.find_elements(By.XPATH,'//div[@class=\"product-price\"]')\n",
    "    time.sleep(3)\n",
    "    for i in price_el:\n",
    "        try:\n",
    "            price.append(i.text)\n",
    "            driver.execute_script(\"window.scrollBy(0,document.body.scrollHeight0)\")\n",
    "        except:\n",
    "            price.append(\"--\")\n",
    "    return price"
   ]
  },
  {
   "cell_type": "code",
   "execution_count": 64,
   "id": "7b70dcc6",
   "metadata": {},
   "outputs": [
    {
     "data": {
      "text/plain": [
       "200"
      ]
     },
     "execution_count": 64,
     "metadata": {},
     "output_type": "execute_result"
    }
   ],
   "source": [
    "brand=[]\n",
    "description=[]\n",
    "price=[]\n",
    "length=len(brand)\n",
    "while(length<=100):\n",
    "    driver.refresh()\n",
    "    brand.extend(scrape_brand())\n",
    "    description.extend(scrape_des())\n",
    "    price.extend(scrape_price())\n",
    "    time.sleep(3)\n",
    "    length=len(brand)\n",
    "    next_btn=driver.find_element(By.XPATH,'//li[@class=\"pagination-next\"]/a')\n",
    "    next_btn.click()\n",
    "    \n",
    "len(price)"
   ]
  },
  {
   "cell_type": "code",
   "execution_count": 65,
   "id": "bb3a2e2d",
   "metadata": {},
   "outputs": [
    {
     "data": {
      "text/plain": [
       "[150, 400, 200]"
      ]
     },
     "execution_count": 65,
     "metadata": {},
     "output_type": "execute_result"
    }
   ],
   "source": [
    "length_list=[len(brand),len(description),len(price)]\n",
    "length_list"
   ]
  },
  {
   "cell_type": "code",
   "execution_count": 66,
   "id": "15999d82",
   "metadata": {},
   "outputs": [
    {
     "data": {
      "text/plain": [
       "['Men Walking Shoes',\n",
       " 'Men AMG Petronas F1 Sneakers',\n",
       " 'Men Colourblocked PU Sneakers',\n",
       " 'Men Sneakers',\n",
       " 'Men Printed Slip-On Sneakers',\n",
       " 'Men Aqua Shoes',\n",
       " 'Men Running Shoes',\n",
       " 'Men Edgility Running Shoes',\n",
       " 'Men Printed Slip-On Sneakers',\n",
       " 'Men TR-100 Training Shoe',\n",
       " 'Men Running Shoes',\n",
       " 'Men Casual Sneakers',\n",
       " 'Men Walking Shoes',\n",
       " 'Men Go Run Fast Training Shoes',\n",
       " 'Women Flat Boots',\n",
       " 'Men Black Solid Formal Debys',\n",
       " 'Men Go Walk Walking Shoes',\n",
       " 'Men SoftFoam Running',\n",
       " 'Walking Shoes',\n",
       " 'Men Perforations Fashion',\n",
       " 'Men Walking Shoes',\n",
       " 'Men Trekking Shoes',\n",
       " 'Men Aqua Shoes',\n",
       " 'Men Solid Horsebit Loafers',\n",
       " 'Men Solid Leather Formal Derbys',\n",
       " 'Men Monks',\n",
       " 'Men Street Run Running Shoes',\n",
       " 'Run Swift Running',\n",
       " 'Men Textured Sneakers',\n",
       " 'Flex Essential Running Shoes',\n",
       " 'Men Running Shoes',\n",
       " 'Men Sneakers',\n",
       " 'Unisex MAPF1 Drift Sneakers',\n",
       " 'Men RSO2312-Black Walking',\n",
       " 'Men MONTON 4.0 Sneakers',\n",
       " 'Men Loafers',\n",
       " 'Unisex Textured Trekking Shoes',\n",
       " 'Men PWRFrame Training Shoes',\n",
       " 'Men Flex Experience Running',\n",
       " 'Men Sneakers',\n",
       " 'Men Running Shoes',\n",
       " 'Women Mules Flats',\n",
       " 'Men Walking Shoes',\n",
       " 'Men Solid Leather Loafers',\n",
       " 'Men Printed High-Top Sneakers',\n",
       " 'Men PU Casual Sneakers',\n",
       " 'Men Black Walking Shoes',\n",
       " 'Men Solid Running Shoes',\n",
       " 'Men Running Shoes',\n",
       " 'Men Leather Shoes',\n",
       " 'Men Leather Shoes',\n",
       " 'Unisex Varion Training Shoes',\n",
       " 'Men Mech Dune Running Shoes',\n",
       " 'Men Solid Leather Derbys',\n",
       " 'Men Running Shoes',\n",
       " 'Unisex Slip-On Sneakers',\n",
       " 'Men Textured Formal Derbys',\n",
       " 'Men Colourblocked PU Sneakers',\n",
       " 'Women Solid Heeled Boots',\n",
       " 'High-Top Block Gladiators',\n",
       " 'Semi-Formal Shoes',\n",
       " 'Kids Revolution 4 Running',\n",
       " 'Men Running Shoes',\n",
       " 'Men Solid Sneakers',\n",
       " 'Men PWRFrame Training Shoes',\n",
       " 'Men ULTRA FLEX 2.0 Sneakers',\n",
       " 'Men Alpha Running shoe',\n",
       " 'Men Claudious 3.0 Walking',\n",
       " 'Men RSO2611-6-BLACK Walking',\n",
       " 'Men Running Shoes',\n",
       " 'Men Running Shoes',\n",
       " 'Women Running Shoes',\n",
       " 'Men Running Shoes',\n",
       " 'Men Volga Trekking Shoes',\n",
       " 'Men Woven Design Sneakers',\n",
       " 'Men Woven Flat Boots',\n",
       " 'Men Metalite Running shoe',\n",
       " 'Men Running Shoes',\n",
       " 'Men Running Shoes',\n",
       " 'Men Walking Shoes',\n",
       " 'Men Running Shoes',\n",
       " 'Men Running Shoes',\n",
       " 'Women Sandals',\n",
       " 'Men Walking Shoes',\n",
       " 'Men Shore Running Shoes',\n",
       " 'Men Humble IDP Sneakers',\n",
       " 'Men Walking Shoes',\n",
       " 'Men Woven Design Slip-On Sneakers',\n",
       " 'Men Runmagica Running Shoes',\n",
       " 'Men Formal Oxfords Shoes',\n",
       " 'Men PU Derbys',\n",
       " 'Women Colourblocked Sneakers',\n",
       " 'Men Solid Leather Derbys',\n",
       " 'Softride Vital Shoes',\n",
       " 'Men Leather Slip-on Shoes',\n",
       " 'Men Solid Running Shoes',\n",
       " 'Men Front Runner Shoes',\n",
       " 'Go Walk Stability Advanceme',\n",
       " 'Men Walking Shoes',\n",
       " 'Women Colourblocked Sneakers',\n",
       " 'women Party Block Mules',\n",
       " 'Men Solid Loafers',\n",
       " 'Men Running Shoes',\n",
       " 'Men Solid Formal Loafers',\n",
       " 'Women Mules Flats',\n",
       " 'Men UA Mojo 2 Running Shoes',\n",
       " 'Men Woven Design Sneakers',\n",
       " 'Men Running Shoes',\n",
       " 'Men Running Shoes',\n",
       " 'Men Reyton Running Shoes',\n",
       " 'Men Solid Leather Formal Derbys',\n",
       " 'Men Textured Sneakers',\n",
       " 'Men Solid Formal Oxfords',\n",
       " 'Women Solid Flats With Buckles',\n",
       " 'Men DRAGON Running Shoes',\n",
       " 'Kids REVOLUTION 4 Shoes',\n",
       " 'Men Solid Formal Loafers',\n",
       " 'Women Training or Gym Shoes',\n",
       " 'Men Running Shoes',\n",
       " 'Men Walking Shoes',\n",
       " 'Men Solid Formal Oxford Shoes',\n",
       " 'Men Sneakers',\n",
       " 'Men Textured Trekking Shoes',\n",
       " 'Men Walking Shoes',\n",
       " 'Men Running Shoes',\n",
       " 'Women T-Strap Flats',\n",
       " 'Running Gamble XT IDP Shoes',\n",
       " 'Women Sandals',\n",
       " 'Men Woven Design Loafers',\n",
       " 'Men Textured Loafers',\n",
       " 'Women Air Max Bella Training',\n",
       " 'Men Running Shoes',\n",
       " 'Wedge Sandals',\n",
       " 'Men Go Run Fast Shoes',\n",
       " 'Men Flex Experience Runners',\n",
       " 'Softride Rift Walking Shoes',\n",
       " 'Men Striped Sneakers',\n",
       " 'Chelsea Boots',\n",
       " 'Men Suede Loafers',\n",
       " 'Men Textured Formal Derby',\n",
       " 'Men Sneakers',\n",
       " 'Running Propel EL IDP Shoes',\n",
       " 'Men Loafers',\n",
       " 'Men Colourblocked Sneakers',\n",
       " 'Women High-Top Flat Boots',\n",
       " 'Women Go run Fast- Valor',\n",
       " 'Men Running Shoes',\n",
       " 'Men Woven Design Running Shoes',\n",
       " 'Men Sneakers',\n",
       " 'Men Running Shoes']"
      ]
     },
     "execution_count": 66,
     "metadata": {},
     "output_type": "execute_result"
    }
   ],
   "source": [
    "description_new=[]\n",
    "for i in range(0,300,2):\n",
    "    description_new.append(description[i])\n",
    "description_new"
   ]
  },
  {
   "cell_type": "code",
   "execution_count": 67,
   "id": "1eea1a52",
   "metadata": {},
   "outputs": [
    {
     "data": {
      "text/html": [
       "<div>\n",
       "<style scoped>\n",
       "    .dataframe tbody tr th:only-of-type {\n",
       "        vertical-align: middle;\n",
       "    }\n",
       "\n",
       "    .dataframe tbody tr th {\n",
       "        vertical-align: top;\n",
       "    }\n",
       "\n",
       "    .dataframe thead th {\n",
       "        text-align: right;\n",
       "    }\n",
       "</style>\n",
       "<table border=\"1\" class=\"dataframe\">\n",
       "  <thead>\n",
       "    <tr style=\"text-align: right;\">\n",
       "      <th></th>\n",
       "      <th>BRAND</th>\n",
       "      <th>SHORT_DESCRIPTION</th>\n",
       "      <th>PRICE</th>\n",
       "    </tr>\n",
       "    <tr>\n",
       "      <th>INDEX</th>\n",
       "      <th></th>\n",
       "      <th></th>\n",
       "      <th></th>\n",
       "    </tr>\n",
       "  </thead>\n",
       "  <tbody>\n",
       "    <tr>\n",
       "      <th>1</th>\n",
       "      <td>Red Tape\\nMen Walking Shoes\\nRs. 1143Rs. 5199(...</td>\n",
       "      <td>Men Walking Shoes</td>\n",
       "      <td>Rs. 1143Rs. 5199(78% OFF)</td>\n",
       "    </tr>\n",
       "    <tr>\n",
       "      <th>2</th>\n",
       "      <td>PUMA Motorsport\\nMen AMG Petronas F1 Sneakers\\...</td>\n",
       "      <td>Men AMG Petronas F1 Sneakers</td>\n",
       "      <td>Rs. 3999Rs. 7999(50% OFF)</td>\n",
       "    </tr>\n",
       "    <tr>\n",
       "      <th>3</th>\n",
       "      <td>Bond Street By Red Tape\\nMen Colourblocked PU ...</td>\n",
       "      <td>Men Colourblocked PU Sneakers</td>\n",
       "      <td>Rs. 1274Rs. 5099(75% OFF)</td>\n",
       "    </tr>\n",
       "    <tr>\n",
       "      <th>4</th>\n",
       "      <td>Roadster\\nMen Sneakers\\nRs. 796Rs. 3795(79% OFF)</td>\n",
       "      <td>Men Sneakers</td>\n",
       "      <td>Rs. 796Rs. 3795(79% OFF)</td>\n",
       "    </tr>\n",
       "    <tr>\n",
       "      <th>5</th>\n",
       "      <td>GRIFFIN\\nMen Printed Slip-On Sneakers\\nRs. 199...</td>\n",
       "      <td>Men Printed Slip-On Sneakers</td>\n",
       "      <td>Rs. 1999Rs. 3599(Rs. 1600 OFF)</td>\n",
       "    </tr>\n",
       "    <tr>\n",
       "      <th>...</th>\n",
       "      <td>...</td>\n",
       "      <td>...</td>\n",
       "      <td>...</td>\n",
       "    </tr>\n",
       "    <tr>\n",
       "      <th>96</th>\n",
       "      <td>WROGN\\nMen Solid Running Shoes\\nRs. 2474Rs. 44...</td>\n",
       "      <td>Men Solid Running Shoes</td>\n",
       "      <td>Rs. 2474Rs. 4499( 45 % OFF)</td>\n",
       "    </tr>\n",
       "    <tr>\n",
       "      <th>97</th>\n",
       "      <td>HRX by Hrithik Roshan\\nMen Front Runner Shoes\\...</td>\n",
       "      <td>Men Front Runner Shoes</td>\n",
       "      <td>Rs. 1799Rs. 3999( 55 % OFF)</td>\n",
       "    </tr>\n",
       "    <tr>\n",
       "      <th>98</th>\n",
       "      <td>Skechers\\nGo Walk Stability Advanceme\\nRs. 559...</td>\n",
       "      <td>Go Walk Stability Advanceme</td>\n",
       "      <td>Rs. 5599Rs. 6999(20% OFF)</td>\n",
       "    </tr>\n",
       "    <tr>\n",
       "      <th>99</th>\n",
       "      <td>Red Tape\\nMen Walking Shoes\\nRs. 1385Rs. 6299(...</td>\n",
       "      <td>Men Walking Shoes</td>\n",
       "      <td>Rs. 1385Rs. 6299(78% OFF)</td>\n",
       "    </tr>\n",
       "    <tr>\n",
       "      <th>100</th>\n",
       "      <td>AfroJack\\nWomen Colourblocked Sneakers\\nRs. 79...</td>\n",
       "      <td>Women Colourblocked Sneakers</td>\n",
       "      <td>Rs. 799Rs. 3995(80% OFF)</td>\n",
       "    </tr>\n",
       "  </tbody>\n",
       "</table>\n",
       "<p>100 rows × 3 columns</p>\n",
       "</div>"
      ],
      "text/plain": [
       "                                                   BRAND  \\\n",
       "INDEX                                                      \n",
       "1      Red Tape\\nMen Walking Shoes\\nRs. 1143Rs. 5199(...   \n",
       "2      PUMA Motorsport\\nMen AMG Petronas F1 Sneakers\\...   \n",
       "3      Bond Street By Red Tape\\nMen Colourblocked PU ...   \n",
       "4       Roadster\\nMen Sneakers\\nRs. 796Rs. 3795(79% OFF)   \n",
       "5      GRIFFIN\\nMen Printed Slip-On Sneakers\\nRs. 199...   \n",
       "...                                                  ...   \n",
       "96     WROGN\\nMen Solid Running Shoes\\nRs. 2474Rs. 44...   \n",
       "97     HRX by Hrithik Roshan\\nMen Front Runner Shoes\\...   \n",
       "98     Skechers\\nGo Walk Stability Advanceme\\nRs. 559...   \n",
       "99     Red Tape\\nMen Walking Shoes\\nRs. 1385Rs. 6299(...   \n",
       "100    AfroJack\\nWomen Colourblocked Sneakers\\nRs. 79...   \n",
       "\n",
       "                   SHORT_DESCRIPTION                           PRICE  \n",
       "INDEX                                                                 \n",
       "1                  Men Walking Shoes       Rs. 1143Rs. 5199(78% OFF)  \n",
       "2       Men AMG Petronas F1 Sneakers       Rs. 3999Rs. 7999(50% OFF)  \n",
       "3      Men Colourblocked PU Sneakers       Rs. 1274Rs. 5099(75% OFF)  \n",
       "4                       Men Sneakers        Rs. 796Rs. 3795(79% OFF)  \n",
       "5       Men Printed Slip-On Sneakers  Rs. 1999Rs. 3599(Rs. 1600 OFF)  \n",
       "...                              ...                             ...  \n",
       "96           Men Solid Running Shoes     Rs. 2474Rs. 4499( 45 % OFF)  \n",
       "97            Men Front Runner Shoes     Rs. 1799Rs. 3999( 55 % OFF)  \n",
       "98       Go Walk Stability Advanceme       Rs. 5599Rs. 6999(20% OFF)  \n",
       "99                 Men Walking Shoes       Rs. 1385Rs. 6299(78% OFF)  \n",
       "100     Women Colourblocked Sneakers        Rs. 799Rs. 3995(80% OFF)  \n",
       "\n",
       "[100 rows x 3 columns]"
      ]
     },
     "execution_count": 67,
     "metadata": {},
     "output_type": "execute_result"
    }
   ],
   "source": [
    "shoes=pd.DataFrame()\n",
    "shoes[\"INDEX\"]=range(1,101)\n",
    "shoes[\"BRAND\"]=brand[:100]\n",
    "shoes[\"SHORT_DESCRIPTION\"]=description_new[:100]\n",
    "shoes[\"PRICE\"]=price[:100]\n",
    "shoes.set_index(\"INDEX\",inplace=True)\n",
    "shoes"
   ]
  },
  {
   "cell_type": "markdown",
   "id": "cfea8f3c",
   "metadata": {},
   "source": [
    "Q8: Go to webpage https://www.amazon.in/ Enter “Laptop” in the search field and then click the search icon. Then set CPU Type filter to “Intel Core i7” as shown in the below image:"
   ]
  },
  {
   "cell_type": "code",
   "execution_count": 284,
   "id": "ae4bbd07",
   "metadata": {},
   "outputs": [],
   "source": [
    "driver=webdriver.Chrome(r\"C:\\Program Files\\chromedriver.exe\")\n",
    "url='https://www.amazon.in/'\n",
    "driver.get(url)\n",
    "driver.maximize_window()"
   ]
  },
  {
   "cell_type": "code",
   "execution_count": 285,
   "id": "db519e63",
   "metadata": {},
   "outputs": [],
   "source": [
    "search_col=driver.find_element(By.XPATH,'//input[@class=\"nav-input nav-progressive-attribute\"]')\n",
    "search_col.send_keys('Laptop')\n",
    "\n",
    "search_button=driver.find_elements(By.XPATH,'//input[@class=\"nav-input nav-progressive-attribute\"]')\n",
    "search_button[1].click()"
   ]
  },
  {
   "cell_type": "code",
   "execution_count": 288,
   "id": "6f4def90",
   "metadata": {},
   "outputs": [],
   "source": [
    "cpu_filter=driver.find_element(By.XPATH,'/html/body/div[1]/div[2]/div[1]/div[2]/div/div[3]/span/div[1]/div/div/div[6]/ul[5]/li[13]/span/a/span')\n",
    "cpu_filter.click()\n",
    "time.sleep(2)"
   ]
  },
  {
   "cell_type": "code",
   "execution_count": 289,
   "id": "e4d6353b",
   "metadata": {},
   "outputs": [
    {
     "data": {
      "text/plain": [
       "['ASUS Vivobook 15, 15.6-inch (39.62 cms) FHD, Intel Core i7-1065G7 10th Gen, Thin and Light Laptop (16GB/512GB SSD/Iris Plus Graphics/Windows 11/Office 2021/Silver/1.8 kg), X515JA-EJ701WS',\n",
       " 'Fujitsu UH-X 11th Gen Intel Core i7 13.3\" FHD IPS 400Nits 2-in1 Touch Convertible Laptop (16GB/1TB SSD/Windows 11/MS Office 2021/Iris Xe Graphics/2 Yr Warranty/Backlit Kb/Black/0.997 kg, 4ZR1F38027)',\n",
       " 'ASUS Zenbook 13 OLED, 13.3-inch (33.78 cms) FHD OLED, Intel EVO Core i7-1165G7 11th Gen, Thin and Light Laptop (16GB/1TB SSD/Iris Xe Graphics/Windows 11/Office 2021/Mist/1.14 kg), UX325EA-KG701WS',\n",
       " 'HP Pavilion x360 11th Gen Intel Core i7 14 inch(35.6 cm) FHD,IPS, Multitouch 2-in-1 Laptop(16GB RAM/512GB SSD/Backlit KB/Intel Iris Xe Graphics/Pen/Alexa Built-in/MSO/1.52Kg) 14-dy1050TU, Spruce Blue',\n",
       " 'Lenovo IdeaPad Slim 5 Intel Core i7 12th Gen 15.6\" (39.62cm) FHD IPS Thin & Light Laptop (16GB/512GB SSD/Windows 11/Office 2021/Backlit/FPR/3months Game Pass/Storm Grey/1.85Kg), 82SF008WIN',\n",
       " 'ASUS Vivobook 15, 15.6-inch (39.62 cms) FHD, Intel Core i7-1065G7 10th Gen, Thin and Light Laptop (16GB/512GB SSD/Iris Plus Graphics/Windows 11/Office 2021/Silver/1.8 kg), X515JA-EJ701WS',\n",
       " 'Lenovo ThinkBook 15 Intel 11th Gen Core i7 15.6\"(39.62 cm)FHD Thin and Light Laptop (16GB/512GB SSD/Windows 11 Home/MS Office H&S 2021/Iris® Xe Graphics/Backlit/Mineral Grey/1.7 Kg) 20VE00W4IH',\n",
       " 'Acer Nitro 5 Core i7 11th Gen 15.6\" (39.62cms) Full HD IPS Gaming Laptop (16 GB/512 GB SSD/Win 11/4 GB Graphics/NVIDIA GeForce RTX 3050 Ti/144 Hz, Black, 2.2 kg) AN515-57',\n",
       " 'HP Pavilion Plus, 12th Gen Intel Core i7 16GB RAM/1TB SSD 14 inch(35.6 cm),OLED,400 nits,UWVA, Eye Safe Laptop/Intel Iris Xe Graphics/Backlit KB/B&O/FPR/Win 11/Alexa Built-in/MSO 2021, 14-eh0024TU',\n",
       " 'Samsung Galaxy Book2 360 Intel 12th Gen i7 EvoTM 33.78cm (13.3\") AMOLED 2 in 1 Touch Screen Laptop (16 GB/512 GB SSD/Windows 11/MS Office/Backlit KB/Fingerprint Sensor/Graphite/1.16Kg), NP730QED-KA1IN']"
      ]
     },
     "execution_count": 289,
     "metadata": {},
     "output_type": "execute_result"
    }
   ],
   "source": [
    "title_el=driver.find_elements(By.XPATH,'//span[@class=\"a-size-medium a-color-base a-text-normal\"]')\n",
    "title=[]\n",
    "for i in title_el[:10]:\n",
    "    title.append(i.text)\n",
    "title"
   ]
  },
  {
   "cell_type": "code",
   "execution_count": 290,
   "id": "2903395e",
   "metadata": {},
   "outputs": [
    {
     "data": {
      "text/plain": [
       "['77,990',\n",
       " '1,00,000',\n",
       " '93,290',\n",
       " '80,990',\n",
       " '79,990',\n",
       " '77,990',\n",
       " '77,990',\n",
       " '89,990',\n",
       " '86,990',\n",
       " '98,290']"
      ]
     },
     "execution_count": 290,
     "metadata": {},
     "output_type": "execute_result"
    }
   ],
   "source": [
    "price_el=driver.find_elements(By.XPATH,'//span[@class=\"a-price-whole\"]')\n",
    "price=[]\n",
    "for i in price_el[:10]:\n",
    "    price.append(i.text)\n",
    "price"
   ]
  },
  {
   "cell_type": "code",
   "execution_count": 294,
   "id": "04c2577b",
   "metadata": {},
   "outputs": [],
   "source": [
    "ratings=driver.find_elements(By.XPATH,'//div[@class=\"a-row a-size-small\"]/span[1]')   \n",
    "for i in ratings:\n",
    "    rating.append(i.get_attribute('aria-label'))"
   ]
  },
  {
   "cell_type": "code",
   "execution_count": 295,
   "id": "35da4072",
   "metadata": {},
   "outputs": [
    {
     "data": {
      "text/html": [
       "<div>\n",
       "<style scoped>\n",
       "    .dataframe tbody tr th:only-of-type {\n",
       "        vertical-align: middle;\n",
       "    }\n",
       "\n",
       "    .dataframe tbody tr th {\n",
       "        vertical-align: top;\n",
       "    }\n",
       "\n",
       "    .dataframe thead th {\n",
       "        text-align: right;\n",
       "    }\n",
       "</style>\n",
       "<table border=\"1\" class=\"dataframe\">\n",
       "  <thead>\n",
       "    <tr style=\"text-align: right;\">\n",
       "      <th></th>\n",
       "      <th>TITLE</th>\n",
       "      <th>RATING</th>\n",
       "      <th>PRICE</th>\n",
       "    </tr>\n",
       "    <tr>\n",
       "      <th>INDEX</th>\n",
       "      <th></th>\n",
       "      <th></th>\n",
       "      <th></th>\n",
       "    </tr>\n",
       "  </thead>\n",
       "  <tbody>\n",
       "    <tr>\n",
       "      <th>1</th>\n",
       "      <td>ASUS Vivobook 15, 15.6-inch (39.62 cms) FHD, I...</td>\n",
       "      <td>3.8 out of 5 stars</td>\n",
       "      <td>77,990</td>\n",
       "    </tr>\n",
       "    <tr>\n",
       "      <th>2</th>\n",
       "      <td>Fujitsu UH-X 11th Gen Intel Core i7 13.3\" FHD ...</td>\n",
       "      <td>4.2 out of 5 stars</td>\n",
       "      <td>1,00,000</td>\n",
       "    </tr>\n",
       "    <tr>\n",
       "      <th>3</th>\n",
       "      <td>ASUS Zenbook 13 OLED, 13.3-inch (33.78 cms) FH...</td>\n",
       "      <td>4.3 out of 5 stars</td>\n",
       "      <td>93,290</td>\n",
       "    </tr>\n",
       "    <tr>\n",
       "      <th>4</th>\n",
       "      <td>HP Pavilion x360 11th Gen Intel Core i7 14 inc...</td>\n",
       "      <td>4.2 out of 5 stars</td>\n",
       "      <td>80,990</td>\n",
       "    </tr>\n",
       "    <tr>\n",
       "      <th>5</th>\n",
       "      <td>Lenovo IdeaPad Slim 5 Intel Core i7 12th Gen 1...</td>\n",
       "      <td>4.5 out of 5 stars</td>\n",
       "      <td>79,990</td>\n",
       "    </tr>\n",
       "    <tr>\n",
       "      <th>6</th>\n",
       "      <td>ASUS Vivobook 15, 15.6-inch (39.62 cms) FHD, I...</td>\n",
       "      <td>3.8 out of 5 stars</td>\n",
       "      <td>77,990</td>\n",
       "    </tr>\n",
       "    <tr>\n",
       "      <th>7</th>\n",
       "      <td>Lenovo ThinkBook 15 Intel 11th Gen Core i7 15....</td>\n",
       "      <td>4.3 out of 5 stars</td>\n",
       "      <td>77,990</td>\n",
       "    </tr>\n",
       "    <tr>\n",
       "      <th>8</th>\n",
       "      <td>Acer Nitro 5 Core i7 11th Gen 15.6\" (39.62cms)...</td>\n",
       "      <td>4.2 out of 5 stars</td>\n",
       "      <td>89,990</td>\n",
       "    </tr>\n",
       "    <tr>\n",
       "      <th>9</th>\n",
       "      <td>HP Pavilion Plus, 12th Gen Intel Core i7 16GB ...</td>\n",
       "      <td>3.9 out of 5 stars</td>\n",
       "      <td>86,990</td>\n",
       "    </tr>\n",
       "    <tr>\n",
       "      <th>10</th>\n",
       "      <td>Samsung Galaxy Book2 360 Intel 12th Gen i7 Evo...</td>\n",
       "      <td>2.9 out of 5 stars</td>\n",
       "      <td>98,290</td>\n",
       "    </tr>\n",
       "  </tbody>\n",
       "</table>\n",
       "</div>"
      ],
      "text/plain": [
       "                                                   TITLE              RATING  \\\n",
       "INDEX                                                                          \n",
       "1      ASUS Vivobook 15, 15.6-inch (39.62 cms) FHD, I...  3.8 out of 5 stars   \n",
       "2      Fujitsu UH-X 11th Gen Intel Core i7 13.3\" FHD ...  4.2 out of 5 stars   \n",
       "3      ASUS Zenbook 13 OLED, 13.3-inch (33.78 cms) FH...  4.3 out of 5 stars   \n",
       "4      HP Pavilion x360 11th Gen Intel Core i7 14 inc...  4.2 out of 5 stars   \n",
       "5      Lenovo IdeaPad Slim 5 Intel Core i7 12th Gen 1...  4.5 out of 5 stars   \n",
       "6      ASUS Vivobook 15, 15.6-inch (39.62 cms) FHD, I...  3.8 out of 5 stars   \n",
       "7      Lenovo ThinkBook 15 Intel 11th Gen Core i7 15....  4.3 out of 5 stars   \n",
       "8      Acer Nitro 5 Core i7 11th Gen 15.6\" (39.62cms)...  4.2 out of 5 stars   \n",
       "9      HP Pavilion Plus, 12th Gen Intel Core i7 16GB ...  3.9 out of 5 stars   \n",
       "10     Samsung Galaxy Book2 360 Intel 12th Gen i7 Evo...  2.9 out of 5 stars   \n",
       "\n",
       "          PRICE  \n",
       "INDEX            \n",
       "1        77,990  \n",
       "2      1,00,000  \n",
       "3        93,290  \n",
       "4        80,990  \n",
       "5        79,990  \n",
       "6        77,990  \n",
       "7        77,990  \n",
       "8        89,990  \n",
       "9        86,990  \n",
       "10       98,290  "
      ]
     },
     "execution_count": 295,
     "metadata": {},
     "output_type": "execute_result"
    }
   ],
   "source": [
    "laptop_df=pd.DataFrame()\n",
    "laptop_df['INDEX']=range(1,11)\n",
    "laptop_df['TITLE']=title[:10]\n",
    "laptop_df['RATING']=rating[:10]\n",
    "laptop_df['PRICE']=price[:10]\n",
    "laptop_df.set_index('INDEX',inplace=True)\n",
    "laptop_df"
   ]
  },
  {
   "cell_type": "markdown",
   "id": "c88edfea",
   "metadata": {},
   "source": [
    "Q9: Write a python program to scrape data for first 10 job results for Data Scientist Designation in Noida\n",
    "location. You have to scrape company name, No. of days ago when job was posted, Rating of the company.\n",
    "This task will be done in following steps:\n",
    "1. First get the webpage https://www.ambitionbox.com/\n",
    "2. Click on the Job option as shown in the image\n",
    "3. After reaching to the next webpage, In place of “Search by Designations, Companies, Skills” enter\n",
    "“Data Scientist” and click on search button."
   ]
  },
  {
   "cell_type": "code",
   "execution_count": 149,
   "id": "0b8ada5e",
   "metadata": {},
   "outputs": [],
   "source": [
    "driver=webdriver.Chrome(r\"C:\\Program Files\\chromedriver.exe\")\n",
    "url='https://www.ambitionbox.com/'\n",
    "driver.get(url)\n",
    "driver.maximize_window()"
   ]
  },
  {
   "cell_type": "code",
   "execution_count": 150,
   "id": "78d96995",
   "metadata": {},
   "outputs": [],
   "source": [
    "jobs=driver.find_element(By.XPATH,'//a[@class=\"navItemLink\"]')\n",
    "jobs.click()"
   ]
  },
  {
   "cell_type": "code",
   "execution_count": 151,
   "id": "7a867675",
   "metadata": {},
   "outputs": [],
   "source": [
    "job_option=driver.find_element(By.XPATH,'//input[@title=\"Enter Designation, Company or a Skill\"]')\n",
    "job_option.send_keys('Date Scientist')"
   ]
  },
  {
   "cell_type": "code",
   "execution_count": 152,
   "id": "637c9450",
   "metadata": {},
   "outputs": [],
   "source": [
    "search=driver.find_element(By.XPATH,'//button[@class=\"ab_btn search-btn round\"]')\n",
    "search.click()"
   ]
  },
  {
   "cell_type": "code",
   "execution_count": null,
   "id": "4dc03707",
   "metadata": {},
   "outputs": [],
   "source": []
  },
  {
   "cell_type": "markdown",
   "id": "a24b1eca",
   "metadata": {},
   "source": [
    "Q10: Write a python program to scrape the salary data for Data Scientist designation.\n",
    "You have to scrape Company name, Number of salaries, Average salary, Minsalary, Max Salary.\n",
    "The above task will be, done as shown in the below steps:\n",
    "1. First get the webpage https://www.ambitionbox.com/\n",
    "2. Click on the salaries option as shown in the image."
   ]
  },
  {
   "cell_type": "code",
   "execution_count": 173,
   "id": "e3b0802b",
   "metadata": {},
   "outputs": [],
   "source": [
    "driver=webdriver.Chrome(r\"C:\\Program Files\\chromedriver.exe\")\n",
    "url='https://www.ambitionbox.com/'\n",
    "driver.get(url)\n",
    "driver.maximize_window()"
   ]
  },
  {
   "cell_type": "code",
   "execution_count": null,
   "id": "b8a15b00",
   "metadata": {},
   "outputs": [],
   "source": []
  },
  {
   "cell_type": "code",
   "execution_count": null,
   "id": "d5be06d4",
   "metadata": {},
   "outputs": [],
   "source": []
  },
  {
   "cell_type": "code",
   "execution_count": null,
   "id": "b446597f",
   "metadata": {},
   "outputs": [],
   "source": []
  },
  {
   "cell_type": "code",
   "execution_count": null,
   "id": "679da3ee",
   "metadata": {},
   "outputs": [],
   "source": []
  },
  {
   "cell_type": "code",
   "execution_count": null,
   "id": "51952a3c",
   "metadata": {},
   "outputs": [],
   "source": []
  },
  {
   "cell_type": "code",
   "execution_count": null,
   "id": "669b6fca",
   "metadata": {},
   "outputs": [],
   "source": []
  },
  {
   "cell_type": "code",
   "execution_count": null,
   "id": "221deae3",
   "metadata": {},
   "outputs": [],
   "source": []
  },
  {
   "cell_type": "code",
   "execution_count": null,
   "id": "a6039c2d",
   "metadata": {},
   "outputs": [],
   "source": []
  },
  {
   "cell_type": "code",
   "execution_count": null,
   "id": "79f7f28a",
   "metadata": {},
   "outputs": [],
   "source": []
  },
  {
   "cell_type": "code",
   "execution_count": null,
   "id": "0fb11f24",
   "metadata": {},
   "outputs": [],
   "source": []
  }
 ],
 "metadata": {
  "kernelspec": {
   "display_name": "Python 3 (ipykernel)",
   "language": "python",
   "name": "python3"
  },
  "language_info": {
   "codemirror_mode": {
    "name": "ipython",
    "version": 3
   },
   "file_extension": ".py",
   "mimetype": "text/x-python",
   "name": "python",
   "nbconvert_exporter": "python",
   "pygments_lexer": "ipython3",
   "version": "3.9.7"
  }
 },
 "nbformat": 4,
 "nbformat_minor": 5
}
